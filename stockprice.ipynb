{
 "cells": [
  {
   "cell_type": "code",
   "execution_count": null,
   "metadata": {},
   "outputs": [],
   "source": [
    "# Class ETL Project for Stock Prices\n",
    "import pandas as pd\n",
    "from sqlalchemy import create_engine\n",
    "from bs4 import BeautifulSoup as bs\n",
    "import requests\n",
    "import datetime as dt"
   ]
  },
  {
   "cell_type": "code",
   "execution_count": null,
   "metadata": {},
   "outputs": [],
   "source": [
    "# Read in the big historical price data file\n",
    "stock_file = \"Resources/historical_stock_prices.csv\"\n",
    "stock_data_df = pd.read_csv(stock_file)\n",
    "stock_data_df.head()"
   ]
  },
  {
   "cell_type": "code",
   "execution_count": null,
   "metadata": {},
   "outputs": [],
   "source": [
    "# Read in the stock industry sector data\n",
    "sector_file = \"Resources/historical_stocks.csv\"\n",
    "sector_data_df = pd.read_csv(sector_file)\n",
    "sector_data_df.head()"
   ]
  },
  {
   "cell_type": "code",
   "execution_count": null,
   "metadata": {},
   "outputs": [],
   "source": [
    "# Rename the columns as transform part one\n",
    "sector_data_df = sector_data_df.rename(columns={\"name\": \"firm name\"})\n",
    "sector_data_df.head()"
   ]
  },
  {
   "cell_type": "code",
   "execution_count": null,
   "metadata": {},
   "outputs": [],
   "source": [
    "# sort data on ticker to put in alpabetic order for sector data\n",
    "sector_data_sorted_df = sector_data_df.sort_values('ticker')\n"
   ]
  },
  {
   "cell_type": "code",
   "execution_count": null,
   "metadata": {},
   "outputs": [],
   "source": [
    "sector_data_sorted_df.head()"
   ]
  },
  {
   "cell_type": "code",
   "execution_count": null,
   "metadata": {},
   "outputs": [],
   "source": [
    "# sort data on ticker to put in alpabetic order for historical price data\n",
    "stock_data_sorted_df = stock_data_df.sort_values(['ticker', 'date'])\n",
    "stock_data_sorted_df.head()"
   ]
  },
  {
   "cell_type": "code",
   "execution_count": null,
   "metadata": {},
   "outputs": [],
   "source": [
    "# Only use ticker, close and date columns from historical_stock_prices\n",
    "stock_data_tickclosedate_df = stock_data_sorted_df[['ticker', 'close', 'date']].copy()\n",
    "stock_data_tickclosedate_df.head()"
   ]
  },
  {
   "cell_type": "code",
   "execution_count": null,
   "metadata": {},
   "outputs": [],
   "source": [
    "# obtain the year data of interest\n",
    "stock_data_tickclosedate_df ['year'] = stock_data_tickclosedate_df['date'].str[:4]\n"
   ]
  },
  {
   "cell_type": "code",
   "execution_count": null,
   "metadata": {},
   "outputs": [],
   "source": [
    "stock_data_tickclosedate_df.head()"
   ]
  },
  {
   "cell_type": "code",
   "execution_count": null,
   "metadata": {},
   "outputs": [],
   "source": [
    "#stock_data_tickclosedate_year_df = stock_data_tickclosedate_df.filter(stock_data_tickclosedate_df['Year'] == '2018')\n",
    "#stock_data_tickclosedate_df.head()\n",
    "stock_data_tickclosedate_2018_df = stock_data_tickclosedate_df[stock_data_tickclosedate_df['year'] == '2018']\n",
    "stock_data_tickclosedate_2018_df.head()\n"
   ]
  },
  {
   "cell_type": "code",
   "execution_count": null,
   "metadata": {},
   "outputs": [],
   "source": [
    "sector_data_sorted_df['sector'].unique()"
   ]
  },
  {
   "cell_type": "code",
   "execution_count": null,
   "metadata": {},
   "outputs": [],
   "source": [
    "abc = sector_data_sorted_df[sector_data_sorted_df['sector'] == 'PUBLIC UTILITIES']\n",
    "abc['ticker'].unique()"
   ]
  },
  {
   "cell_type": "code",
   "execution_count": null,
   "metadata": {},
   "outputs": [],
   "source": [
    "# First ticker to use is GM, PPG, AAPL, GENE, UPS, AB, YELP, ZN, LULU, ABB, EBAY, FE\n",
    "sector_ticker_list = ['GM', 'PPG', 'AAPL', 'GENE', 'UPS', 'AB', 'YELP', 'ZN', 'LULU', 'ABB', 'EBAY', 'FE']"
   ]
  },
  {
   "cell_type": "code",
   "execution_count": null,
   "metadata": {},
   "outputs": [],
   "source": [
    "# create the URL string to get the quote \n",
    "url_string = \"https://www.fool.com/quote/GM/\""
   ]
  },
  {
   "cell_type": "code",
   "execution_count": null,
   "metadata": {},
   "outputs": [],
   "source": [
    "# Retrieve page with the requests module\n",
    "response = requests.get(url_string)"
   ]
  },
  {
   "cell_type": "code",
   "execution_count": null,
   "metadata": {},
   "outputs": [],
   "source": [
    "# Create BeautifulSoup object; parse with 'html.parser', trying lxml instead\n",
    "soup = bs(response.text, 'html.parser')"
   ]
  },
  {
   "cell_type": "code",
   "execution_count": null,
   "metadata": {
    "scrolled": false
   },
   "outputs": [],
   "source": [
    "# Examine the results, then determine element that contains sought info\n",
    "#print(soup.prettify())"
   ]
  },
  {
   "cell_type": "code",
   "execution_count": null,
   "metadata": {},
   "outputs": [],
   "source": [
    "# we have the data, need to find the string:  data-reactid=\"13\" with no class"
   ]
  },
  {
   "cell_type": "code",
   "execution_count": null,
   "metadata": {},
   "outputs": [],
   "source": [
    "# grab scrape results\n",
    "scrape_results = soup.find('span', class_='current-price').text"
   ]
  },
  {
   "cell_type": "code",
   "execution_count": null,
   "metadata": {},
   "outputs": [],
   "source": [
    "#print(soup.prettify())\n",
    "print(scrape_results)"
   ]
  },
  {
   "cell_type": "code",
   "execution_count": null,
   "metadata": {},
   "outputs": [],
   "source": [
    "\n",
    "print(date)"
   ]
  },
  {
   "cell_type": "code",
   "execution_count": null,
   "metadata": {},
   "outputs": [],
   "source": [
    "ticker_current_data = []\n",
    "date = dt.datetime.now()\n",
    "date = date.strftime(\"%Y-%m-%d\")\n",
    "\n",
    "for ticker in sector_ticker_list:\n",
    "    url_ticker = f\"https://www.fool.com/quote/{ticker}\"\n",
    "    response = requests.get(url_ticker)\n",
    "    soup = bs(response.text, 'html.parser')\n",
    "    current_price = soup.find('span', class_='current-price').text.strip()\n",
    "    ticker_current_data.append([ticker,current_price, date])"
   ]
  },
  {
   "cell_type": "code",
   "execution_count": null,
   "metadata": {},
   "outputs": [],
   "source": [
    "print(ticker_current_data)"
   ]
  },
  {
   "cell_type": "code",
   "execution_count": null,
   "metadata": {},
   "outputs": [],
   "source": [
    "# create a data frame \n",
    "# use datetime library\n",
    "stock_scrape_data_df = pd.DataFrame(ticker_current_data)\n",
    "stock_scrape_data_df = stock_scrape_data_df.rename(columns={0: \"ticker\", 1: \"current_price\", 2: \"date\"})\n"
   ]
  },
  {
   "cell_type": "code",
   "execution_count": null,
   "metadata": {},
   "outputs": [],
   "source": [
    "stock_scrape_data_df"
   ]
  },
  {
   "cell_type": "code",
   "execution_count": null,
   "metadata": {},
   "outputs": [],
   "source": []
  },
  {
   "cell_type": "code",
   "execution_count": null,
   "metadata": {},
   "outputs": [],
   "source": []
  }
 ],
 "metadata": {
  "kernelspec": {
   "display_name": "Python 3",
   "language": "python",
   "name": "python3"
  },
  "language_info": {
   "codemirror_mode": {
    "name": "ipython",
    "version": 3
   },
   "file_extension": ".py",
   "mimetype": "text/x-python",
   "name": "python",
   "nbconvert_exporter": "python",
   "pygments_lexer": "ipython3",
   "version": "3.7.4"
  }
 },
 "nbformat": 4,
 "nbformat_minor": 2
}
